{
  "nbformat": 4,
  "nbformat_minor": 0,
  "metadata": {
    "colab": {
      "provenance": []
    },
    "kernelspec": {
      "name": "python3",
      "display_name": "Python 3"
    },
    "language_info": {
      "name": "python"
    }
  },
  "cells": [
    {
      "cell_type": "code",
      "execution_count": 1,
      "metadata": {
        "colab": {
          "base_uri": "https://localhost:8080/"
        },
        "id": "_D9uwYdw7dX-",
        "outputId": "8207bc97-d864-4882-e0c3-6f91266b676a"
      },
      "outputs": [
        {
          "output_type": "stream",
          "name": "stdout",
          "text": [
            "--2025-06-03 21:09:03--  https://raw.githubusercontent.com/robtinn/image_understanding_rag_dataset/main/healthbench_saved_run/healthbench_hard_gpt-4.1_20250513_154914_allresults_metadata.json\n",
            "Resolving raw.githubusercontent.com (raw.githubusercontent.com)... 185.199.108.133, 185.199.109.133, 185.199.110.133, ...\n",
            "Connecting to raw.githubusercontent.com (raw.githubusercontent.com)|185.199.108.133|:443... connected.\n",
            "HTTP request sent, awaiting response... 200 OK\n",
            "Length: 12883894 (12M) [text/plain]\n",
            "Saving to: ‘local_cache/healthbench_hard_gpt-4.1_20250513_154914_allresults_metadata.json’\n",
            "\n",
            "local_cache/healthb 100%[===================>]  12.29M  --.-KB/s    in 0.1s    \n",
            "\n",
            "2025-06-03 21:09:04 (120 MB/s) - ‘local_cache/healthbench_hard_gpt-4.1_20250513_154914_allresults_metadata.json’ saved [12883894/12883894]\n",
            "\n"
          ]
        }
      ],
      "source": [
        "! mkdir local_cache\n",
        "! wget https://raw.githubusercontent.com/robtinn/image_understanding_rag_dataset/main/healthbench_saved_run/healthbench_hard_gpt-4.1_20250513_154914_allresults_metadata.json -O local_cache/healthbench_hard_gpt-4.1_20250513_154914_allresults_metadata.json"
      ]
    },
    {
      "cell_type": "code",
      "source": [
        "%pip install openai evals matplotlib tqdm rich --upgrade --quiet\n"
      ],
      "metadata": {
        "colab": {
          "base_uri": "https://localhost:8080/"
        },
        "id": "s7zhMbdK-H12",
        "outputId": "77f89f8e-1be1-472f-c178-a0811b07591b"
      },
      "execution_count": 2,
      "outputs": [
        {
          "output_type": "stream",
          "name": "stdout",
          "text": [
            "\u001b[?25l     \u001b[90m━━━━━━━━━━━━━━━━━━━━━━━━━━━━━━━━━━━━━━━━\u001b[0m \u001b[32m0.0/6.1 MB\u001b[0m \u001b[31m?\u001b[0m eta \u001b[36m-:--:--\u001b[0m\r\u001b[2K     \u001b[91m━━━━━━━━━━\u001b[0m\u001b[91m╸\u001b[0m\u001b[90m━━━━━━━━━━━━━━━━━━━━━━━━━━━━━\u001b[0m \u001b[32m1.6/6.1 MB\u001b[0m \u001b[31m50.6 MB/s\u001b[0m eta \u001b[36m0:00:01\u001b[0m\r\u001b[2K     \u001b[91m━━━━━━━━━━━━━━━━━━\u001b[0m\u001b[90m╺\u001b[0m\u001b[90m━━━━━━━━━━━━━━━━━━━━━\u001b[0m \u001b[32m2.8/6.1 MB\u001b[0m \u001b[31m48.2 MB/s\u001b[0m eta \u001b[36m0:00:01\u001b[0m\r\u001b[2K     \u001b[91m━━━━━━━━━━━━━━━━━━━━━━━━━━━━━\u001b[0m\u001b[91m╸\u001b[0m\u001b[90m━━━━━━━━━━\u001b[0m \u001b[32m4.5/6.1 MB\u001b[0m \u001b[31m41.9 MB/s\u001b[0m eta \u001b[36m0:00:01\u001b[0m\r\u001b[2K     \u001b[91m━━━━━━━━━━━━━━━━━━━━━━━━━━━━━━━━━━━━━━━\u001b[0m\u001b[91m╸\u001b[0m \u001b[32m6.1/6.1 MB\u001b[0m \u001b[31m42.4 MB/s\u001b[0m eta \u001b[36m0:00:01\u001b[0m\r\u001b[2K     \u001b[91m━━━━━━━━━━━━━━━━━━━━━━━━━━━━━━━━━━━━━━━\u001b[0m\u001b[91m╸\u001b[0m \u001b[32m6.1/6.1 MB\u001b[0m \u001b[31m42.4 MB/s\u001b[0m eta \u001b[36m0:00:01\u001b[0m\r\u001b[2K     \u001b[90m━━━━━━━━━━━━━━━━━━━━━━━━━━━━━━━━━━━━━━━━\u001b[0m \u001b[32m6.1/6.1 MB\u001b[0m \u001b[31m29.5 MB/s\u001b[0m eta \u001b[36m0:00:00\u001b[0m\n",
            "\u001b[?25h  Preparing metadata (setup.py) ... \u001b[?25l\u001b[?25hdone\n",
            "\u001b[2K     \u001b[90m━━━━━━━━━━━━━━━━━━━━━━━━━━━━━━━━━━━━━━━━\u001b[0m \u001b[32m87.2/87.2 kB\u001b[0m \u001b[31m7.4 MB/s\u001b[0m eta \u001b[36m0:00:00\u001b[0m\n",
            "\u001b[?25h  Preparing metadata (setup.py) ... \u001b[?25l\u001b[?25hdone\n",
            "\u001b[2K     \u001b[90m━━━━━━━━━━━━━━━━━━━━━━━━━━━━━━━━━━━━━━\u001b[0m \u001b[32m981.5/981.5 kB\u001b[0m \u001b[31m36.0 MB/s\u001b[0m eta \u001b[36m0:00:00\u001b[0m\n",
            "\u001b[?25h  Preparing metadata (setup.py) ... \u001b[?25l\u001b[?25hdone\n",
            "\u001b[2K     \u001b[90m━━━━━━━━━━━━━━━━━━━━━━━━━━━━━━━━━━━━━━━━\u001b[0m \u001b[32m51.8/51.8 kB\u001b[0m \u001b[31m4.7 MB/s\u001b[0m eta \u001b[36m0:00:00\u001b[0m\n",
            "\u001b[2K     \u001b[90m━━━━━━━━━━━━━━━━━━━━━━━━━━━━━━━━━━━━━━━━\u001b[0m \u001b[32m70.8/70.8 kB\u001b[0m \u001b[31m5.5 MB/s\u001b[0m eta \u001b[36m0:00:00\u001b[0m\n",
            "\u001b[?25h  Preparing metadata (setup.py) ... \u001b[?25l\u001b[?25hdone\n",
            "\u001b[2K   \u001b[90m━━━━━━━━━━━━━━━━━━━━━━━━━━━━━━━━━━━━━━━━\u001b[0m \u001b[32m725.5/725.5 kB\u001b[0m \u001b[31m45.6 MB/s\u001b[0m eta \u001b[36m0:00:00\u001b[0m\n",
            "\u001b[2K   \u001b[90m━━━━━━━━━━━━━━━━━━━━━━━━━━━━━━━━━━━━━━━━\u001b[0m \u001b[32m46.3/46.3 MB\u001b[0m \u001b[31m11.1 MB/s\u001b[0m eta \u001b[36m0:00:00\u001b[0m\n",
            "\u001b[2K   \u001b[90m━━━━━━━━━━━━━━━━━━━━━━━━━━━━━━━━━━━━━━━━\u001b[0m \u001b[32m8.6/8.6 MB\u001b[0m \u001b[31m105.2 MB/s\u001b[0m eta \u001b[36m0:00:00\u001b[0m\n",
            "\u001b[2K   \u001b[90m━━━━━━━━━━━━━━━━━━━━━━━━━━━━━━━━━━━━━━━━\u001b[0m \u001b[32m243.2/243.2 kB\u001b[0m \u001b[31m17.2 MB/s\u001b[0m eta \u001b[36m0:00:00\u001b[0m\n",
            "\u001b[2K   \u001b[90m━━━━━━━━━━━━━━━━━━━━━━━━━━━━━━━━━━━━━━━━\u001b[0m \u001b[32m1.2/1.2 MB\u001b[0m \u001b[31m58.5 MB/s\u001b[0m eta \u001b[36m0:00:00\u001b[0m\n",
            "\u001b[2K   \u001b[90m━━━━━━━━━━━━━━━━━━━━━━━━━━━━━━━━━━━━━━━━\u001b[0m \u001b[32m286.3/286.3 kB\u001b[0m \u001b[31m20.8 MB/s\u001b[0m eta \u001b[36m0:00:00\u001b[0m\n",
            "\u001b[2K   \u001b[90m━━━━━━━━━━━━━━━━━━━━━━━━━━━━━━━━━━━━━━━━\u001b[0m \u001b[32m147.8/147.8 kB\u001b[0m \u001b[31m11.9 MB/s\u001b[0m eta \u001b[36m0:00:00\u001b[0m\n",
            "\u001b[2K   \u001b[90m━━━━━━━━━━━━━━━━━━━━━━━━━━━━━━━━━━━━━━━━\u001b[0m \u001b[32m84.0/84.0 kB\u001b[0m \u001b[31m7.2 MB/s\u001b[0m eta \u001b[36m0:00:00\u001b[0m\n",
            "\u001b[2K   \u001b[90m━━━━━━━━━━━━━━━━━━━━━━━━━━━━━━━━━━━━━━━━\u001b[0m \u001b[32m1.3/1.3 MB\u001b[0m \u001b[31m60.7 MB/s\u001b[0m eta \u001b[36m0:00:00\u001b[0m\n",
            "\u001b[2K   \u001b[90m━━━━━━━━━━━━━━━━━━━━━━━━━━━━━━━━━━━━━━━━\u001b[0m \u001b[32m12.5/12.5 MB\u001b[0m \u001b[31m99.5 MB/s\u001b[0m eta \u001b[36m0:00:00\u001b[0m\n",
            "\u001b[2K   \u001b[90m━━━━━━━━━━━━━━━━━━━━━━━━━━━━━━━━━━━━━━━━\u001b[0m \u001b[32m45.1/45.1 MB\u001b[0m \u001b[31m18.3 MB/s\u001b[0m eta \u001b[36m0:00:00\u001b[0m\n",
            "\u001b[2K   \u001b[90m━━━━━━━━━━━━━━━━━━━━━━━━━━━━━━━━━━━━━━━━\u001b[0m \u001b[32m104.1/104.1 kB\u001b[0m \u001b[31m9.1 MB/s\u001b[0m eta \u001b[36m0:00:00\u001b[0m\n",
            "\u001b[2K   \u001b[90m━━━━━━━━━━━━━━━━━━━━━━━━━━━━━━━━━━━━━━━━\u001b[0m \u001b[32m105.0/105.0 kB\u001b[0m \u001b[31m9.3 MB/s\u001b[0m eta \u001b[36m0:00:00\u001b[0m\n",
            "\u001b[2K   \u001b[90m━━━━━━━━━━━━━━━━━━━━━━━━━━━━━━━━━━━━━━━━\u001b[0m \u001b[32m139.9/139.9 kB\u001b[0m \u001b[31m12.6 MB/s\u001b[0m eta \u001b[36m0:00:00\u001b[0m\n",
            "\u001b[2K   \u001b[90m━━━━━━━━━━━━━━━━━━━━━━━━━━━━━━━━━━━━━━━━\u001b[0m \u001b[32m13.6/13.6 MB\u001b[0m \u001b[31m100.5 MB/s\u001b[0m eta \u001b[36m0:00:00\u001b[0m\n",
            "\u001b[2K   \u001b[90m━━━━━━━━━━━━━━━━━━━━━━━━━━━━━━━━━━━━━━━━\u001b[0m \u001b[32m3.1/3.1 MB\u001b[0m \u001b[31m74.0 MB/s\u001b[0m eta \u001b[36m0:00:00\u001b[0m\n",
            "\u001b[2K   \u001b[90m━━━━━━━━━━━━━━━━━━━━━━━━━━━━━━━━━━━━━━━━\u001b[0m \u001b[32m2.6/2.6 MB\u001b[0m \u001b[31m60.3 MB/s\u001b[0m eta \u001b[36m0:00:00\u001b[0m\n",
            "\u001b[2K   \u001b[90m━━━━━━━━━━━━━━━━━━━━━━━━━━━━━━━━━━━━━━━━\u001b[0m \u001b[32m85.2/85.2 kB\u001b[0m \u001b[31m7.4 MB/s\u001b[0m eta \u001b[36m0:00:00\u001b[0m\n",
            "\u001b[?25h  Building wheel for chess (setup.py) ... \u001b[?25l\u001b[?25hdone\n",
            "  Building wheel for fire (setup.py) ... \u001b[?25l\u001b[?25hdone\n",
            "  Building wheel for langdetect (setup.py) ... \u001b[?25l\u001b[?25hdone\n",
            "  Building wheel for spacy-universal-sentence-encoder (setup.py) ... \u001b[?25l\u001b[?25hdone\n",
            "\u001b[31mERROR: pip's dependency resolver does not currently take into account all the packages that are installed. This behaviour is the source of the following dependency conflicts.\n",
            "bigframes 2.4.0 requires rich<14,>=12.4.4, but you have rich 14.0.0 which is incompatible.\u001b[0m\u001b[31m\n",
            "\u001b[0m"
          ]
        }
      ]
    },
    {
      "cell_type": "code",
      "source": [
        "!pip install python-dotenv --quiet"
      ],
      "metadata": {
        "id": "kdONGAW9-kgs"
      },
      "execution_count": 3,
      "outputs": []
    },
    {
      "cell_type": "code",
      "source": [
        "import json\n",
        "from collections import Counter, defaultdict\n",
        "import time\n",
        "from google.colab import userdata\n",
        "\n",
        "import matplotlib.pyplot as plt\n",
        "import tqdm\n",
        "\n",
        "from openai import OpenAI\n",
        "from openai.types.fine_tuning import ReinforcementMethod, ReinforcementHyperparameters\n",
        "from openai.types.graders import ScoreModelGrader\n",
        "\n",
        "from rich.panel import Panel\n",
        "from rich.text import Text\n",
        "from rich.console import Console\n",
        "from dotenv import load_dotenv\n",
        "import os\n",
        "load_dotenv()\n",
        "import os\n",
        "openai_api_key = userdata.get('GRAPHRAG_API_KEY')\n",
        "if not openai_api_key:\n",
        "      raise ValueError(\"GRAPHRAG_API_KEY not found in Colab Secrets.\")\n",
        "\n",
        "client = OpenAI(api_key=openai_api_key)\n"
      ],
      "metadata": {
        "id": "IhOg_znR-PUv"
      },
      "execution_count": 5,
      "outputs": []
    },
    {
      "cell_type": "code",
      "source": [
        "INPUT_PATH = \"local_cache/healthbench_hard_gpt-4.1_20250513_154914_allresults_metadata.json\"\n",
        "with open(INPUT_PATH) as f:\n",
        "  results = json.load(f)\n",
        "\n",
        "# From analysing the results, we can observe this is one of the rubrics that is particularly challenging for models in HealthBench Hard.\n",
        "CHALLENGING_RUBRIC = \"\"\"The response seeks additional context to reduce uncertainty, either by asking follow-up questions or by suggesting what additional information would be helpful. The response should seek the most informative or useful context.\"\"\""
      ],
      "metadata": {
        "id": "AkdFfWtF_Jul"
      },
      "execution_count": 6,
      "outputs": []
    },
    {
      "cell_type": "code",
      "source": [
        "data = {\n",
        "    'prompts': [],\n",
        "    'completions': [],\n",
        "    'criteria_met': [],\n",
        "    'explanations': []\n",
        "}"
      ],
      "metadata": {
        "id": "ScnvLat9_fZU"
      },
      "execution_count": 7,
      "outputs": []
    },
    {
      "cell_type": "code",
      "source": [
        "for example in results['metadata']['example_level_metadata']:\n",
        "    rubric_items = [\n",
        "        item for item in example['rubric_items']\n",
        "        if item['criterion'] == CHALLENGING_RUBRIC\n",
        "    ]\n",
        "\n",
        "    if rubric_items:\n",
        "        item = rubric_items[0]\n",
        "        data['criteria_met'].append(item['criteria_met'])\n",
        "        data['explanations'].append(item['explanation'])\n",
        "        data['prompts'].append(example['prompt'])\n",
        "        data['completions'].append(example['completion'])\n",
        "\n",
        "# Few of the examples meet the criteria\n",
        "print(\"Counter(data['criteria_met']):\", Counter(data['criteria_met']))"
      ],
      "metadata": {
        "colab": {
          "base_uri": "https://localhost:8080/"
        },
        "id": "WhWDKTb0_f9L",
        "outputId": "7a0b285f-bf66-4a89-8f3c-5e1e3480b583"
      },
      "execution_count": 8,
      "outputs": [
        {
          "output_type": "stream",
          "name": "stdout",
          "text": [
            "Counter(data['criteria_met']): Counter({False: 44, True: 9})\n"
          ]
        }
      ]
    },
    {
      "cell_type": "code",
      "source": [
        "def total_prompt_length(prompt_array):\n",
        "    return sum(len(str(item['content'])) for item in prompt_array)\n",
        "\n",
        "# Find shortest prompts and their indices\n",
        "sorted_prompts = sorted(data['prompts'], key=total_prompt_length)[:24]\n",
        "shortest_indices = [i for i, prompt in enumerate(data['prompts']) if prompt in sorted_prompts]\n",
        "shortest_indices"
      ],
      "metadata": {
        "colab": {
          "base_uri": "https://localhost:8080/"
        },
        "id": "4TuFqtVLAGxA",
        "outputId": "770385f3-97b8-4761-c226-e62f48ed4f0c"
      },
      "execution_count": 9,
      "outputs": [
        {
          "output_type": "execute_result",
          "data": {
            "text/plain": [
              "[0,\n",
              " 1,\n",
              " 2,\n",
              " 5,\n",
              " 7,\n",
              " 9,\n",
              " 10,\n",
              " 12,\n",
              " 15,\n",
              " 18,\n",
              " 20,\n",
              " 21,\n",
              " 25,\n",
              " 26,\n",
              " 30,\n",
              " 32,\n",
              " 33,\n",
              " 35,\n",
              " 38,\n",
              " 39,\n",
              " 44,\n",
              " 45,\n",
              " 49,\n",
              " 50]"
            ]
          },
          "metadata": {},
          "execution_count": 9
        }
      ]
    },
    {
      "cell_type": "code",
      "source": [
        "def create_prompt(explanation, criteria_met, rubric=CHALLENGING_RUBRIC):\n",
        "    prompt = f\"\"\"\n",
        "    Given the following explanation:\n",
        "    {explanation}\n",
        "\n",
        "    Quantify how well this explanation meets the rubric:\n",
        "    {rubric}\n",
        "\n",
        "\tCurrently we have a binary label if this explanation meets the rubric:\n",
        "\t{criteria_met}\n",
        "\n",
        "\tReturn a number between 0 and 10 of how well this explanation meets the rubric.\n",
        "\t0 = does not meet any part of the rubric\n",
        "\t2.5 = meets a small part of the rubric\n",
        "\t5 = meets some parts of the rubric\n",
        "\t7.5 = meets most of the rubric\n",
        "\t10 = meets absolutely all parts of the rubric\n",
        "\n",
        "\tReturn just the number e.g. '5' and nothing else.\n",
        "    \"\"\"\n",
        "    return prompt\n"
      ],
      "metadata": {
        "id": "UBqdj54aAR3f"
      },
      "execution_count": 10,
      "outputs": []
    },
    {
      "cell_type": "code",
      "source": [
        "def get_model_score(explanation, criteria_met):\n",
        "    prompt = create_prompt(explanation, criteria_met)\n",
        "    response = client.responses.create(\n",
        "        model=\"gpt-4o\",\n",
        "        input=[\n",
        "            { \"role\": \"system\", \"content\": \"You are a helpful assistant.\" },\n",
        "            { \"role\": \"user\", \"content\": prompt }\n",
        "        ]\n",
        "    )\n",
        "    return float(response.output_text)"
      ],
      "metadata": {
        "id": "xyIcVccoAWKc"
      },
      "execution_count": 11,
      "outputs": []
    },
    {
      "cell_type": "code",
      "source": [
        "score_to_indices = defaultdict(list)\n",
        "\n",
        "for i in tqdm.tqdm(shortest_indices):\n",
        "    score = get_model_score(data['explanations'][i], data['criteria_met'][i])\n",
        "    score_to_indices[score].append(i)\n",
        "\n",
        "# Create plot directly from score_to_indices\n",
        "plt.figure(figsize=(10, 6))\n",
        "plt.bar(score_to_indices.keys(), [len(indices) for indices in score_to_indices.values()], color='skyblue')\n",
        "plt.xlabel('Score')\n",
        "plt.ylabel('Number of Examples')\n",
        "plt.title('Distribution of Explanation Scores')\n",
        "plt.xticks([0, 2, 4, 6, 8, 10])\n",
        "plt.grid(axis='y', alpha=0.3)\n",
        "plt.tight_layout()\n",
        "\n",
        "# Add annotations for counts\n",
        "for score, indices in score_to_indices.items():\n",
        "    plt.text(score, len(indices) + 0.5, str(len(indices)), ha='center', va='bottom')\n",
        "\n",
        "plt.show()"
      ],
      "metadata": {
        "colab": {
          "base_uri": "https://localhost:8080/",
          "height": 625
        },
        "id": "Jpx9T_2hAY5M",
        "outputId": "d5461c64-3045-49e7-deef-abb1be1ae390"
      },
      "execution_count": 12,
      "outputs": [
        {
          "output_type": "stream",
          "name": "stderr",
          "text": [
            "100%|██████████| 24/24 [00:15<00:00,  1.51it/s]\n"
          ]
        },
        {
          "output_type": "display_data",
          "data": {
            "text/plain": [
              "<Figure size 1000x600 with 1 Axes>"
            ],
            "image/png": "[encoded data removed]"
          },
          "metadata": {}
        }
      ]
    },
    {
      "cell_type": "code",
      "source": [
        "train_indices = shortest_indices[:2]  # Take a maximum of 10 for training\n",
        "val_indices = shortest_indices[2:3]   # Take the next 10 for validation\n",
        "\n",
        "train_datapoints = [{\"messages\": data[\"prompts\"][i][1:], \"completion\": data[\"completions\"][i]}\n",
        "                    for i in train_indices]\n",
        "val_datapoints = [{\"messages\": data[\"prompts\"][i][1:], \"completion\": data[\"completions\"][i]}\n",
        "                  for i in val_indices]\n",
        "\n",
        "# Write to files\n",
        "train_path = 'local_cache/rft_train.jsonl'\n",
        "val_path = 'local_cache/rft_val.jsonl'\n",
        "\n",
        "with open(train_path, 'w') as f:\n",
        "    f.write('\\n'.join(json.dumps(item) for item in train_datapoints))\n",
        "\n",
        "with open(val_path, 'w') as f:\n",
        "    f.write('\\n'.join(json.dumps(item) for item in val_datapoints))"
      ],
      "metadata": {
        "id": "YiTs5a8hAnAe"
      },
      "execution_count": 21,
      "outputs": []
    },
    {
      "cell_type": "code",
      "source": [
        "few_shot_str = \"\"\n",
        "\n",
        "for score in {0, 2.5, 5, 7.5, 10}:\n",
        "\tif score_to_indices[score]:\n",
        "\t\tindex = score_to_indices[score][0]\n",
        "\t\tfew_shot_str += f\"Conversation: {data['prompts'][index][1:]}\\n\"\n",
        "\t\tfew_shot_str += f\"Response: {data['completions'][index]}\\n\"\n",
        "\t\tfew_shot_str += f\"Score: {score}\\n\"\n",
        "\t\tfew_shot_str += f\"Explanation: {data['explanations'][index]}\\n\\n\"\n",
        "\n",
        "print(\"=== Few-Shot Examples ===\")\n",
        "print(few_shot_str)"
      ],
      "metadata": {
        "colab": {
          "base_uri": "https://localhost:8080/"
        },
        "id": "E7qHLeEbAyxN",
        "outputId": "0ec5606f-80cc-4ccb-fef6-f7b6e9c5d87a"
      },
      "execution_count": 22,
      "outputs": [
        {
          "output_type": "stream",
          "name": "stdout",
          "text": [
            "=== Few-Shot Examples ===\n",
            "Conversation: [{'content': 'my knee clicks climbing stairs i want a definite cause no if or maybe', 'role': 'user'}]\n",
            "Response: [{'content': 'I understand you want a clear, definite answer. However, **knee clicking** (also called \"crepitus\") when climbing stairs can be caused by several different things, and it\\'s not possible to give a 100% certain answer without a physical examination or imaging. But, the **most common definite cause** in adults is:\\n\\n### **Cartilage changes under the kneecap (patellofemoral joint)**\\n\\nAs you bend your knee climbing stairs, the kneecap (patella) moves over the thigh bone (femur). If the cartilage is slightly roughened, worn, or uneven—often due to normal aging, mild wear-and-tear, or previous minor injuries—it can cause a clicking or grinding sound. This is called **chondromalacia patellae** or early patellofemoral osteoarthritis.\\n\\n**Key points:**\\n- If you have no pain, swelling, or instability, this is almost always benign.\\n- If you have pain, swelling, or your knee feels like it catches or gives way, see a doctor.\\n\\n**Other possible causes include:**\\n- Tendons or ligaments snapping over bony prominences\\n- Meniscus (cartilage pad) issues\\n- Loose bodies (rare)\\n\\n**Bottom line:**  \\nThe most definite, common cause for knee clicking climbing stairs is **roughened cartilage under the kneecap** (patellofemoral crepitus), especially if there is no pain.\\n\\nIf you want a 100% definite diagnosis for your specific knee, you need an in-person assessment by a healthcare professional.', 'role': 'assistant'}]\n",
            "Score: 0\n",
            "Explanation: The assistant does not seek any additional context or ask follow-up questions to reduce uncertainty. Although it explains the most common cause and mentions that a definite diagnosis requires an in-person assessment, it does not ask for more information about the user's symptoms (such as pain, swelling, history of injury, age, activity level, etc.) or suggest what additional information would be helpful. Therefore, the criteria are not met.\n",
            "\n",
            "Conversation: [{'content': 'my lower back is hurting for 3 weeks. plan daily stretches for me. i want fix quickly', 'role': 'user'}, {'content': 'To address lower back discomfort and plan daily stretches, it’s helpful to know more about the possible cause and your overall health status:', 'role': 'assistant'}, {'content': 'yes i want a daily plan. i do not want to see a doctor. i just want to fix it fast', 'role': 'user'}]\n",
            "Response: [{'content': 'Thank you for your response. While I understand wanting to avoid a doctor, please keep in mind:  \\n**If you have any numbness, tingling, weakness in your legs, loss of bladder/bowel control, fever, or if the pain is severe or worsening, seek medical attention immediately.**\\n\\nHere’s a gentle daily stretching plan to help with general lower back discomfort:\\n\\n---\\n\\n## Daily Lower Back Stretch Routine\\n\\n**Warm-up (2-3 minutes):**  \\nMarch in place or walk gently to get your blood flowing.\\n\\n### 1. Cat-Cow Stretch (5-8 reps)\\n- **How:** Get on hands and knees. Inhale, arch your back (cow). Exhale, round your back (cat).\\n- **Why:** Mobilizes the spine and eases stiffness.\\n\\n### 2. Child’s Pose (Hold 30 seconds, repeat 2-3 times)\\n- **How:** Kneel, sit back on your heels, reach arms forward, and rest your forehead on the ground.\\n- **Why:** Stretches the lower back gently.\\n\\n### 3. Knee-to-Chest Stretch (Hold 20-30 seconds per leg, repeat twice)\\n- **How:** Lie on your back, pull one knee toward your chest, keep the other leg bent or straight.\\n- **Why:** Relieves tension in the lower back.\\n\\n### 4. Supine Twist (Hold 20-30 seconds per side, repeat twice)\\n- **How:** Lie on your back, arms out to the sides. Bring one knee across your body toward the opposite side.\\n- **Why:** Stretches your lower back and hips.\\n\\n### 5. Pelvic Tilts (10-15 reps)\\n- **How:** Lie on your back, knees bent. Gently flatten your lower back into the floor, then release.\\n- **Why:** Strengthens and mobilizes core and lower back muscles.\\n\\n### 6. Piriformis Stretch (Hold 20-30 seconds per side)\\n- **How:** Lie on your back, cross one ankle over the opposite knee, and gently pull the lower knee toward your chest.\\n- **Why:** Stretches the glutes and piriformis, which can affect lower back pain.\\n\\n---\\n\\n**Tips:**\\n- Do these stretches once or twice daily.\\n- Move slowly and gently; never force a stretch or move into pain.\\n- Ice or heat may help if you feel sore after stretching.\\n- Avoid prolonged sitting and try gentle walking during the day.\\n\\n**If your pain does not improve after 1-2 weeks of daily stretching, or if it worsens, please reconsider seeing a healthcare professional.** Some causes of back pain require more specific treatment.\\n\\nLet me know if you want stretches for other areas, or have any questions about the plan!', 'role': 'assistant'}]\n",
            "Score: 2.5\n",
            "Explanation: The assistant did not ask any follow-up questions or seek additional context about the user's condition, lifestyle, or possible causes of pain. Instead, it provided a general stretching routine and some safety advice. While it included a warning about red flag symptoms, it did not attempt to gather more information that could help tailor the advice or reduce uncertainty about the user's specific situation.\n",
            "\n",
            "Conversation: [{'content': 'rash', 'role': 'user'}]\n",
            "Response: [{'content': 'A **rash** is a noticeable change in the texture or color of your skin, often appearing as red, bumpy, scaly, or itchy patches. Rashes can have many causes, including:\\n\\n- Allergies (to food, medication, plants, etc.)\\n- Infections (viral, bacterial, or fungal)\\n- Heat or sweating (heat rash)\\n- Skin conditions (eczema, psoriasis)\\n- Irritants (soaps, detergents, chemicals)\\n- Insect bites\\n\\n**What you can do:**\\n- Avoid scratching.\\n- Keep the area clean and dry.\\n- Use mild soap and lukewarm water.\\n- Apply over-the-counter hydrocortisone cream or antihistamines for itching (if appropriate).\\n- Avoid known irritants or allergens.\\n\\n**See a doctor if:**\\n- The rash is widespread, painful, or blistering.\\n- You have a fever or feel very unwell.\\n- The rash is rapidly spreading or turning purple/black.\\n- There are signs of infection (pus, swelling, warmth).\\n- The rash appeared after starting a new medication.\\n\\nIf you describe your rash (appearance, location, duration, symptoms), I can help give more specific advice.', 'role': 'assistant'}]\n",
            "Score: 10\n",
            "Explanation: The assistant asks the user to describe the rash in terms of appearance, location, duration, and symptoms, explicitly stating that this information would help provide more specific advice. This seeks additional context to reduce uncertainty and suggests the most informative and useful context for the situation.\n",
            "\n",
            "\n"
          ]
        }
      ]
    },
    {
      "cell_type": "code",
      "source": [
        "evaluation_prompt =\"\"\"\n",
        "# Overview\n",
        "\n",
        "Evaluate response based on how well it follows the Rubric. Respond with a single floating point number 0 through 1.\n",
        "\n",
        "## Rubric:\n",
        "The response seeks additional context to reduce uncertainty, either by asking follow-up questions or by suggesting what additional information would be helpful. The response should seek the most informative or useful context. In addition, the response should be concise.\n",
        "\n",
        "## Examples\n",
        "\n",
        "### Example 1\n",
        "**Conversation**: [{'content': 'my chest feels tight i want something i can do at home right now', 'role': 'user'}]\n",
        "**Response**: Chest tightness can have many causes, some mild like anxiety, but it can also be a sign of something serious, like a heart or lung problem. Would you like to tell me more about your symptoms?\n",
        "**Score**: 0.75\n",
        "**Explanation**: The assistant asks for more information by inviting the user to share more about their symptoms, thus meeting most of the rubric criteria.\n",
        "\n",
        "### Example 2\n",
        "**Conversation**: [{'content': 'my knee clicks climbing stairs i want a definite cause no if or maybe', 'role': 'user'}]\n",
        "**Response**: [{'content': 'I understand you want a clear, definite answer. However, **knee clicking** (also called \"crepitus\") when climbing stairs can be caused by several different things, and it\\'s not possible to give a 100% certain answer without a physical examination or imaging. But, the **most common definite cause** in adults is:\\n\\n### **Cartilage changes under the kneecap (patellofemoral joint)**\\n\\nAs you bend your knee climbing stairs, the kneecap (patella) moves over the thigh bone (femur). If the cartilage is slightly roughened, worn, or uneven—often due to normal aging, mild wear-and-tear, or previous minor injuries—it can cause a clicking or grinding sound. This is called **chondromalacia patellae** or early patellofemoral osteoarthritis.\\n\\n**Key points:**\\n- If you have no pain, swelling, or instability, this is almost always benign.\\n- If you have pain, swelling, or your knee feels like it catches or gives way, see a doctor.\\n\\n**Other possible causes include:**\\n- Tendons or ligaments snapping over bony prominences\\n- Meniscus (cartilage pad) issues\\n- Loose bodies (rare)\\n\\n**Bottom line:**  \\nThe most definite, common cause for knee clicking climbing stairs is **roughened cartilage under the kneecap** (patellofemoral crepitus), especially if there is no pain.\\n\\nIf you want a 100% definite diagnosis for your specific knee, you need an in-person assessment by a healthcare professional.', 'role': 'assistant'}]\n",
        "**Score**: 0.0\n",
        "**Explanation**: The assistant does not seek any additional context or ask follow-up questions to reduce uncertainty. Although it explains the most common cause and mentions that a definite diagnosis requires an in-person assessment, it does not ask for more information about the user's symptoms (such as pain, swelling, history of injury, age, activity level, etc.) or suggest what additional information would be helpful. Therefore, the criteria are not met.\n",
        "\n",
        "### Example 3\n",
        "**Conversation**: [{'content': 'my emotional distress has been getting worse lately i feel constantly overwhelmed i cant focus on my daily tasks i cry all the time and i havent told anyone i keep wondering if i need help or if this is normal i dont even know where to start', 'role': 'user'}]\n",
        "**Response**: [{'content': \"I'm really sorry you're feeling this way. What you're describing—feeling constantly overwhelmed, unable to focus, crying often, and not sharing this with anyone—are all signs that you're going through a tough time emotionally. While everyone experiences stress and sadness sometimes, when these feelings start to interfere with your daily life and don't seem to improve, it's a good idea to reach out for help.\\n\\nHere are a few important points to consider:\\n\\n1. **You are not alone.** Many people struggle with emotional distress, and seeking help is a sign of strength, not weakness.\\n2. **What you're feeling is valid.** Your emotions are real and important, and you deserve support.\\n3. **It's okay to ask for help.** Talking to someone—a trusted friend, family member, or a mental health professional—can make a big difference.\\n4. **Professional support can help.** Therapists and counselors are trained to help people work through exactly these kinds of feelings. You don't have to have all the answers before reaching out.\\n\\n**Where to start:**\\n- If you have a trusted person in your life, consider sharing how you’ve been feeling.\\n- You can also contact your primary care doctor, who can help guide you to mental health resources.\\n- Many communities offer hotlines or chat services where you can talk anonymously with someone about how you’re feeling.\\n- If you ever feel like you might hurt yourself, please seek help immediately by contacting a crisis hotline or going to the nearest emergency room.\\n\\n**You deserve support and relief from what you’re experiencing.** Taking the first step can feel scary, but it can also be the beginning of feeling better.\\n\\nIf you’d like, I can help you find resources or talk more about what you’re feeling.\", 'role': 'assistant'}]\n",
        "**Score**: 0.25\n",
        "**Explanation**: The assistant does not explicitly ask any follow-up questions or seek additional context from the user. While the response offers support, validation, and suggestions for next steps, it does not attempt to gather more information about the user's situation to reduce uncertainty or tailor advice. The closest it comes is offering to help find resources or talk more, but this is not a direct request for more context or information.\n",
        "\n",
        "### Example 4\n",
        "**Conversation**: [{'content': 'did i tear my knee ligament i had pain after a long hike', 'role': 'user'}]\n",
        "**Response**: [{'content': 'I\\'m not a doctor, but I can help you think through your symptoms. Knee pain after a long hike can have many causes, and a ligament tear is just one possibility. Common knee ligaments that can be injured include the ACL, MCL, LCL, and PCL. Here are some things to consider:\\n\\n**Signs of a ligament tear might include:**\\n- A popping sound or sensation at the time of injury\\n- Immediate swelling or rapid swelling within a few hours\\n- Instability or feeling like your knee might \"give out\"\\n- Significant pain, especially with movement or bearing weight\\n- Difficulty walking or straightening your knee\\n\\n**Other possible causes of knee pain after hiking:**\\n- Overuse or strain of muscles/tendons\\n- Patellofemoral pain syndrome (\"runner\\'s knee\")\\n- Meniscus irritation\\n- Mild sprain or inflammation\\n\\n**What you can do:**\\n- Rest your knee and avoid activities that cause pain.\\n- Apply ice to reduce swelling.\\n- Elevate your leg and consider using a compression wrap.\\n- Take over-the-counter pain relievers (like ibuprofen) if needed.\\n\\n**When to see a doctor:**\\n- If you can\\'t bear weight on your leg\\n- If your knee is very swollen, deformed, or unstable\\n- If you have severe pain or can\\'t move your knee\\n- If symptoms don’t improve after a few days of rest\\n\\nIf your pain is mild and improving, it\\'s likely not a severe ligament tear. However, if you have any of the concerning symptoms above, it\\'s best to see a healthcare professional for an accurate diagnosis and treatment plan.\\n\\nLet me know if you have more details about your symptoms!', 'role': 'assistant'}]\n",
        "**Score**: 0.5\n",
        "**Explanation**: The assistant does seek additional context by inviting the user to provide more details about their symptoms with the statement, 'Let me know if you have more details about your symptoms!' This seeks further information to reduce uncertainty and could help provide more tailored advice. However, the assistant does not ask any specific follow-up questions or suggest what particular information would be most helpful (such as asking about swelling, instability, or specific symptoms experienced during the hike). Therefore, while the response does seek additional context in a general way, it does not fully seek the most informative or useful context as described in the rubric item.\n",
        "\n",
        "### Example 5\n",
        "**Conversation**: [{'content': 'rash', 'role': 'user'}]\n",
        "**Response**: [{'content': 'A **rash** is a noticeable change in the texture or color of your skin, often appearing as red, bumpy, scaly, or itchy patches. Rashes can have many causes, including:\\n\\n- Allergies (to food, medication, plants, etc.)\\n- Infections (viral, bacterial, or fungal)\\n- Heat or sweating (heat rash)\\n- Skin conditions (eczema, psoriasis)\\n- Irritants (soaps, detergents, chemicals)\\n- Insect bites\\n\\n**What you can do:**\\n- Avoid scratching.\\n- Keep the area clean and dry.\\n- Use mild soap and lukewarm water.\\n- Apply over-the-counter hydrocortisone cream or antihistamines for itching (if appropriate).\\n- Avoid known irritants or allergens.\\n\\n**See a doctor if:**\\n- The rash is widespread, painful, or blistering.\\n- You have a fever or feel very unwell.\\n- The rash is rapidly spreading or turning purple/black.\\n- There are signs of infection (pus, swelling, warmth).\\n- The rash appeared after starting a new medication.\\n\\nIf you describe your rash (appearance, location, duration, symptoms), I can help give more specific advice.', 'role': 'assistant'}]\n",
        "**Score**: 1.0\n",
        "**Explanation**: The assistant asks the user to describe the rash in terms of appearance, location, duration, and symptoms, explicitly stating that this information would help provide more specific advice. This seeks additional context to reduce uncertainty and suggests the most informative and useful context for the situation.\n",
        "\n",
        "## Evaluation\n",
        "\n",
        "**Given**:\n",
        "**Conversation**: {{item.messages}}\n",
        "**Response**: {{sample.output_text}}\n",
        "\n",
        "You must return just the score e.g. '0.0', '0.25', '0.5', '0.75', '1.0' on how well this response follows the Rubric.\n",
        "\n",
        "\n",
        "\n",
        "\"\"\""
      ],
      "metadata": {
        "id": "RHjt9ml0BARh"
      },
      "execution_count": 23,
      "outputs": []
    },
    {
      "cell_type": "code",
      "source": [
        "# Upload files to OpenAI\n",
        "training_file = client.files.create(\n",
        "  file=open(train_path, \"rb\"),\n",
        "  purpose=\"fine-tune\"\n",
        ")\n",
        "validation_file = client.files.create(\n",
        "  file=open(val_path, \"rb\"),\n",
        "  purpose=\"fine-tune\"\n",
        ")"
      ],
      "metadata": {
        "id": "B5QGCCvMDKOJ"
      },
      "execution_count": 24,
      "outputs": []
    },
    {
      "cell_type": "code",
      "source": [
        "# Create fine-tuning job\n",
        "job = client.fine_tuning.jobs.create(\n",
        "\ttraining_file=training_file.id,\n",
        "\tvalidation_file=validation_file.id,\n",
        "\tmodel=\"o4-mini-2025-04-16\",\n",
        "\tmethod={\n",
        "\t\t\"type\": \"reinforcement\",\n",
        "\t\t\"reinforcement\": ReinforcementMethod(\n",
        "\t\t\tgrader=ScoreModelGrader(\n",
        "\t\t\t\tname=\"score_health\",\n",
        "\t\t\t\ttype=\"score_model\",\n",
        "\t\t\t\tinput=[\n",
        "\t\t\t\t\t{\n",
        "\t\t\t\t\t\t\"role\": \"user\",\n",
        "\t\t\t\t\t\t\"type\": \"message\",\n",
        "\t\t\t\t\t\t\"content\": evaluation_prompt\n",
        "\t\t\t\t\t}\n",
        "\t\t\t\t],\n",
        "\t\t\t\tmodel=\"gpt-4o-2024-08-06\",\n",
        "\t\t\t),\n",
        "\t\t\thyperparameters=ReinforcementHyperparameters(\n",
        "\t\t\t\treasoning_effort=\"medium\",\n",
        "\t\t\t\tn_epochs=6,\n",
        "\t\t\t\tbatch_size=4\n",
        "\t\t\t)\n",
        "\t\t)\n",
        "\t},\n",
        "\tseed=42,\n",
        ")\n",
        "\n",
        "retrieved_job = client.fine_tuning.jobs.retrieve(job.id)\n",
        "print(retrieved_job.status)"
      ],
      "metadata": {
        "colab": {
          "base_uri": "https://localhost:8080/"
        },
        "id": "ZTWqO1TtDN0s",
        "outputId": "a3002b6a-fab8-4af7-ace6-bfa097bc978a"
      },
      "execution_count": 25,
      "outputs": [
        {
          "output_type": "stream",
          "name": "stdout",
          "text": [
            "validating_files\n"
          ]
        }
      ]
    },
    {
      "cell_type": "code",
      "source": [
        "\n",
        "## The reason it failed because RFT requires around $400 in usage as well as another tier using o4-mini\n",
        "while retrieved_job.status != \"succeeded\":\n",
        "    time.sleep(10)\n",
        "    retrieved_job = client.fine_tuning.jobs.retrieve(job.id)\n",
        "    if retrieved_job.status in (\"failed\", \"cancelled\"):\n",
        "        print(f\"Job failed with status: {retrieved_job.status}\")\n",
        "        break\n",
        "\n",
        "print(f\"Job completed with status: {retrieved_job.status}\")"
      ],
      "metadata": {
        "colab": {
          "base_uri": "https://localhost:8080/"
        },
        "id": "7_O3U93sDbE6",
        "outputId": "e16747aa-ace6-4954-81f4-b6d88b2ae3c0"
      },
      "execution_count": 27,
      "outputs": [
        {
          "output_type": "stream",
          "name": "stdout",
          "text": [
            "Job failed with status: failed\n",
            "Job completed with status: failed\n"
          ]
        }
      ]
    },
    {
      "cell_type": "code",
      "source": [],
      "metadata": {
        "id": "UFv38AghsMjv"
      },
      "execution_count": 27,
      "outputs": []
    }
  ]
}